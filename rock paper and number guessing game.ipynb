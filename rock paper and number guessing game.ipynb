{
 "cells": [
  {
   "cell_type": "markdown",
   "id": "cb75f528-384d-4d0d-9dc9-38dcd9334923",
   "metadata": {},
   "source": [
    "# Rock Paper Scissors"
   ]
  },
  {
   "cell_type": "code",
   "execution_count": 5,
   "id": "249db27f-4461-468f-b8da-bfd2c2cd497a",
   "metadata": {},
   "outputs": [
    {
     "name": "stdin",
     "output_type": "stream",
     "text": [
      "What is your name?  J\n"
     ]
    },
    {
     "name": "stdout",
     "output_type": "stream",
     "text": [
      "Hello, J!\n"
     ]
    },
    {
     "name": "stdin",
     "output_type": "stream",
     "text": [
      "How old are you?  20\n"
     ]
    },
    {
     "name": "stdout",
     "output_type": "stream",
     "text": [
      "You are 20 years old.\n"
     ]
    },
    {
     "name": "stdin",
     "output_type": "stream",
     "text": [
      "Enter rock, paper, or scissors:  paper\n"
     ]
    },
    {
     "name": "stdout",
     "output_type": "stream",
     "text": [
      "You chose paper and the computer chose rock. You win!\n"
     ]
    }
   ],
   "source": [
    "import random\n",
    "\n",
    "# Ask for the user's name\n",
    "name = input(\"What is your name? \")\n",
    "print(f\"Hello, {name}!\")\n",
    "\n",
    "# Ask for the user's age\n",
    "age = int(input(\"How old are you? \"))  # Converts the input to an integer\n",
    "print(f\"You are {age} years old.\")\n",
    "\n",
    "# Rock-Paper-Scissors Game\n",
    "choices = [\"rock\", \"paper\", \"scissors\"]\n",
    "\n",
    "computer_choice = random.choice(choices)\n",
    "\n",
    "# Player input\n",
    "player_choice = input(\"Enter rock, paper, or scissors: \").lower()\n",
    "\n",
    "# Determine the winner\n",
    "if player_choice == computer_choice:\n",
    "    print(f\"Both chose {player_choice}. It's a tie!\")\n",
    "elif (player_choice == \"rock\" and computer_choice == \"scissors\") or \\\n",
    "     (player_choice == \"scissors\" and computer_choice == \"paper\") or \\\n",
    "     (player_choice == \"paper\" and computer_choice == \"rock\"):\n",
    "    print(f\"You chose {player_choice} and the computer chose {computer_choice}. You win!\")\n",
    "else:\n",
    "    print(f\"You chose {player_choice} and the computer chose {computer_choice}. You lose!\")\n",
    "\n"
   ]
  },
  {
   "cell_type": "code",
   "execution_count": null,
   "id": "f78078fb-794e-4700-800a-41640c78291d",
   "metadata": {},
   "outputs": [],
   "source": [
    "# Number Guessing Game"
   ]
  },
  {
   "cell_type": "code",
   "execution_count": null,
   "id": "95aa6f44-fc26-4734-8811-650cc3f91fd2",
   "metadata": {},
   "outputs": [],
   "source": [
    "# Number Guessing Game\n",
    "secret_number = random.randint(1, 10)\n",
    "\n",
    "while True:\n",
    "    guess = int(input(\"Guess the number (between 1 and 10): \"))\n",
    "\n",
    "    if guess == secret_number:\n",
    "        print(\"Correct! You guessed the number.\")\n",
    "        break\n",
    "    else:\n",
    "        print(\"Try again!\")\n"
   ]
  },
  {
   "cell_type": "code",
   "execution_count": null,
   "id": "63d81b21-6e05-44f4-9510-11adf7fa2f7d",
   "metadata": {},
   "outputs": [],
   "source": []
  }
 ],
 "metadata": {
  "kernelspec": {
   "display_name": "Python 3 (ipykernel)",
   "language": "python",
   "name": "python3"
  },
  "language_info": {
   "codemirror_mode": {
    "name": "ipython",
    "version": 3
   },
   "file_extension": ".py",
   "mimetype": "text/x-python",
   "name": "python",
   "nbconvert_exporter": "python",
   "pygments_lexer": "ipython3",
   "version": "3.11.7"
  }
 },
 "nbformat": 4,
 "nbformat_minor": 5
}
